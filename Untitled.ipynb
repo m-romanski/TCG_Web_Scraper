{
 "cells": [
  {
   "cell_type": "code",
   "execution_count": 1,
   "id": "5fb14fc8-4e00-43dd-9435-577a4431115d",
   "metadata": {},
   "outputs": [],
   "source": [
    "import pandas as pd"
   ]
  },
  {
   "cell_type": "code",
   "execution_count": null,
   "id": "1e9cb1b5-310f-4d4e-a41d-e28c3d96de11",
   "metadata": {},
   "outputs": [],
   "source": [
    "def card_prices(df1, df2, link_column, set_name_column):\n",
    "    for index, row in df2.iterrows():\n",
    "        if row[set_name_column] in df1['set_name'].values:\n",
    "    \n",
    "    "
   ]
  }
 ],
 "metadata": {
  "kernelspec": {
   "display_name": "Python 3 (ipykernel)",
   "language": "python",
   "name": "python3"
  },
  "language_info": {
   "codemirror_mode": {
    "name": "ipython",
    "version": 3
   },
   "file_extension": ".py",
   "mimetype": "text/x-python",
   "name": "python",
   "nbconvert_exporter": "python",
   "pygments_lexer": "ipython3",
   "version": "3.10.14"
  }
 },
 "nbformat": 4,
 "nbformat_minor": 5
}
